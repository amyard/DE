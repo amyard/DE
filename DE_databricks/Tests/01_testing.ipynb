{
 "cells": [
  {
   "cell_type": "code",
   "execution_count": null,
   "id": "initial_id",
   "metadata": {
    "collapsed": true
   },
   "outputs": [],
   "source": "%run \"./01_word_count\""
  },
  {
   "metadata": {},
   "cell_type": "code",
   "outputs": [],
   "execution_count": null,
   "source": [
    "class BatchWordCountTests():\n",
    "    def __init__(self):\n",
    "        self.base_dir = \"/FileStore/tables/\"\n",
    "\n",
    "    def init_env(self):\n",
    "        spark.sql(\"drop table if exists word_count_table\")\n",
    "        dbutils.fs.rm(\"/user/default/word_count_table\", True)\n",
    "\n",
    "        dbutils.fs.rm(f\"{self.base_dir}/chekpoint\", True)\n",
    "        dbutils.fs.rm(f\"{self.base_dir}/data/text\", True)\n",
    "\n",
    "        dbutils.fs.mkdirs(f\"{self.base_dir}/data/text\")\n",
    "    \n",
    "    def ingest_df(self, itr):\n",
    "        dbutils.fs.cp(f\"{self.base_dir}/datasets/text/text_data_{itr}.txt\", f\"{self.base_dir}/data/text/\")\n",
    "\n",
    "    def assert_result(self, expected_count):\n",
    "        actual_count = spark.sql(\"select sum(count) from word_count_table where substr(word, 1, 1) == 's'\").collect()[0][0]\n",
    "        assert expected_count == actual_count, f\"Test failed! actual count is {actual_count}\"\n",
    "\n",
    "    def run_tests(self):\n",
    "        import time\n",
    "\n",
    "        self.init_env()\n",
    "        wc = BatchWordCount()\n",
    "\n",
    "        print(\"Testing first iteration of batch word count...\") \n",
    "        self.ingest_df(1)\n",
    "        wc.word_count()\n",
    "        self.assert_result(25)\n",
    "        print(\"First iteration of batch word count completed.\\n\")\n",
    "\n",
    "        # print(\"Testing second iteration of batch word count...\") \n",
    "        self.ingest_df(2)\n",
    "        wc.word_count()\n",
    "        self.assert_result(32)\n",
    "        print(\"Second iteration of batch word count completed.\\n\") \n",
    "\n",
    "\n",
    "        print(\"Testing third iteration of batch word count...\") \n",
    "        self.ingest_df(3)\n",
    "        wc.word_count()\n",
    "        self.assert_result(37)\n",
    "        print(\"Third iteration of batch word count completed.\\n\")"
   ],
   "id": "a25a62165ff2d618"
  },
  {
   "metadata": {},
   "cell_type": "code",
   "outputs": [],
   "execution_count": null,
   "source": [
    "tests = BatchWordCountTests()\n",
    "tests.run_tests()"
   ],
   "id": "824b50bb2eb493eb"
  }
 ],
 "metadata": {
  "kernelspec": {
   "display_name": "Python 3",
   "language": "python",
   "name": "python3"
  },
  "language_info": {
   "codemirror_mode": {
    "name": "ipython",
    "version": 2
   },
   "file_extension": ".py",
   "mimetype": "text/x-python",
   "name": "python",
   "nbconvert_exporter": "python",
   "pygments_lexer": "ipython2",
   "version": "2.7.6"
  }
 },
 "nbformat": 4,
 "nbformat_minor": 5
}
