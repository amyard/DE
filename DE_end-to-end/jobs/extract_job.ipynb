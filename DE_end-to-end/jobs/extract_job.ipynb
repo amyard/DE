{
 "cells": [
  {
   "cell_type": "code",
   "id": "initial_id",
   "metadata": {
    "collapsed": true,
    "ExecuteTime": {
     "end_time": "2024-09-16T18:41:50.568013Z",
     "start_time": "2024-09-16T18:41:33.418203Z"
    }
   },
   "source": [
    "import time\n",
    "\n",
    "import requests\n",
    "from user_agents import parse\n",
    "from pyspark.sql import SparkSession, DataFrame\n",
    "from pyspark.sql.connect.dataframe import DataFrame\n",
    "from pyspark.sql.types import StructType,StructField, StringType, IntegerType, TimestampType\n",
    "from pyspark.sql.functions import col, lit, split, hour, when, coalesce, udf\n",
    "\n",
    "\n",
    "spark = (SparkSession.builder\n",
    "         .appName(\"ExtractJob\")\n",
    "         .config('spark.jars.packages', \"org.postgresql:postgresql:42.7.3\")\n",
    "         .getOrCreate())\n",
    "\n"
   ],
   "outputs": [],
   "execution_count": 1
  },
  {
   "metadata": {
    "ExecuteTime": {
     "end_time": "2024-09-16T18:42:25.735104Z",
     "start_time": "2024-09-16T18:42:15.307701Z"
    }
   },
   "cell_type": "code",
   "source": [
    "from pyspark.sql.types import StructType,StructField, StringType, IntegerType\n",
    "data2 = [(\"James\",\"\",\"Smith\",\"36636\",\"M\",3000),\n",
    "    (\"Michael\",\"Rose\",\"\",\"40288\",\"M\",4000),\n",
    "    (\"Robert\",\"\",\"Williams\",\"42114\",\"M\",4000),\n",
    "    (\"Maria\",\"Anne\",\"Jones\",\"39192\",\"F\",4000),\n",
    "    (\"Jen\",\"Mary\",\"Brown\",\"\",\"F\",-1)\n",
    "  ]\n",
    "\n",
    "schema = StructType([ \\\n",
    "    StructField(\"firstname\",StringType(),True), \\\n",
    "    StructField(\"middlename\",StringType(),True), \\\n",
    "    StructField(\"lastname\",StringType(),True), \\\n",
    "    StructField(\"id\", StringType(), True), \\\n",
    "    StructField(\"gender\", StringType(), True), \\\n",
    "    StructField(\"salary\", IntegerType(), True) \\\n",
    "  ])\n",
    " \n",
    "df = spark.createDataFrame(data=data2,schema=schema)\n",
    "df.printSchema()\n",
    "df.show(truncate=False)"
   ],
   "id": "8044cdac88d5aca8",
   "outputs": [
    {
     "name": "stdout",
     "output_type": "stream",
     "text": [
      "root\n",
      " |-- firstname: string (nullable = true)\n",
      " |-- middlename: string (nullable = true)\n",
      " |-- lastname: string (nullable = true)\n",
      " |-- id: string (nullable = true)\n",
      " |-- gender: string (nullable = true)\n",
      " |-- salary: integer (nullable = true)\n",
      "\n",
      "+---------+----------+--------+-----+------+------+\n",
      "|firstname|middlename|lastname|id   |gender|salary|\n",
      "+---------+----------+--------+-----+------+------+\n",
      "|James    |          |Smith   |36636|M     |3000  |\n",
      "|Michael  |Rose      |        |40288|M     |4000  |\n",
      "|Robert   |          |Williams|42114|M     |4000  |\n",
      "|Maria    |Anne      |Jones   |39192|F     |4000  |\n",
      "|Jen      |Mary      |Brown   |     |F     |-1    |\n",
      "+---------+----------+--------+-----+------+------+\n",
      "\n"
     ]
    }
   ],
   "execution_count": 2
  },
  {
   "metadata": {
    "ExecuteTime": {
     "end_time": "2024-09-16T18:44:31.442770Z",
     "start_time": "2024-09-16T18:44:25.021787Z"
    }
   },
   "cell_type": "code",
   "source": [
    "ids = df.select(col('firstname')).collect()\n",
    "id_list_str = [str(row['firstname']) for row in ids]\n",
    "id_list_str"
   ],
   "id": "abe193e951d8e0c4",
   "outputs": [
    {
     "data": {
      "text/plain": [
       "['James', 'Michael', 'Robert', 'Maria', 'Jen']"
      ]
     },
     "execution_count": 8,
     "metadata": {},
     "output_type": "execute_result"
    }
   ],
   "execution_count": 8
  },
  {
   "cell_type": "markdown",
   "id": "fa6e4f9f8536bf9f",
   "metadata": {},
   "source": [
    "# https://www.machinelearningplus.com/pyspark/run-sql-queries-with-pyspark/  for tomorrow\n"
   ]
  },
  {
   "cell_type": "code",
   "id": "8c8addd0145b31d0",
   "metadata": {
    "ExecuteTime": {
     "end_time": "2024-09-16T06:24:02.028997Z",
     "start_time": "2024-09-16T06:24:02.023640Z"
    }
   },
   "source": [
    "# host = 'postgres'\n",
    "# port = 5432\n",
    "# dbname = 'postgres'\n",
    "# login = 'airflow'\n",
    "# password = 'airflow'\n",
    "\n",
    "# url = f\"jdbc:postgresql://{host}:{port}/{dbname}\"\n",
    "# properties = {\n",
    "#     \"user\": login,\n",
    "#     \"password\": password,\n",
    "#     \"driver\": \"org.postgresql.Driver\"\n",
    "# }\n",
    "\n",
    "# url = f\"jdbc:postgresql://postgres:5432/postgres\"\n",
    "# connection_properties = {\n",
    "#     \"user\": \"airflow\",\n",
    "#     \"password\": \"airflow\",\n",
    "#     \"driver\": \"org.postgresql.Driver\"\n",
    "# }\n",
    "#\n",
    "# query = f\"(SELECT * FROM logs WHERE status = 'uploaded' AND DATE(created_at) = '{datetime.now().strftime('%Y-%m-%d')}') AS temp_table\"\n",
    "# df = spark.read \\\n",
    "#     .format(\"jdbc\") \\\n",
    "#     .option(\"url\", url) \\\n",
    "#     .option(\"dbtable\", query) \\\n",
    "#     .option(\"user\", connection_properties[\"user\"]) \\\n",
    "#     .option(\"password\", connection_properties[\"password\"]) \\\n",
    "#     .option(\"driver\", connection_properties[\"driver\"]) \\\n",
    "#     .load()\n",
    "#\n",
    "# df.show(truncate=False)\n",
    "\n",
    "#\n",
    "# df = spark.read.format(\"jdbc\").options(\n",
    "#     url=f\"jdbc:postgresql://postgres:5432/postgres\",\n",
    "#     driver=\"org.postgresql.Driver\",\n",
    "#     dbtable='logs',\n",
    "#     user='airflow',\n",
    "#     password='airflow'\n",
    "# ).load()\n",
    "#\n",
    "# df.show(truncate=False)"
   ],
   "outputs": [],
   "execution_count": 34
  },
  {
   "cell_type": "code",
   "id": "d71c31810771339a",
   "metadata": {
    "ExecuteTime": {
     "end_time": "2024-09-16T06:39:53.279589Z",
     "start_time": "2024-09-16T06:39:53.266143Z"
    }
   },
   "source": [
    "@udf(returnType=StringType())\n",
    "def get_location_by_ip(ip_address):\n",
    "    time.sleep(0.01)\n",
    "    try:\n",
    "        # Sending a request to the ipapi service\n",
    "        response = requests.get(f\"http://ipapi.co/{ip_address}/json/\")\n",
    "        data = response.json()\n",
    "\n",
    "        if response.status_code == 200:\n",
    "            country = data.get(\"country_name\", \"Unknown\")\n",
    "            city = data.get(\"city\", \"Unknown\")\n",
    "            region = data.get(\"region\", \"Unknown\")\n",
    "            print(f\"IP Address: {ip_address}\")\n",
    "            print(f\"Country: {country}\")\n",
    "            print(f\"City: {city}\")\n",
    "            print(f\"Region: {region}\")\n",
    "            return f'{country}, {city}, {region}'\n",
    "        else:\n",
    "            print(f\"Error retrieving data for IP: {ip_address}\")\n",
    "            return 'Unknown, Unknown, Unknown'\n",
    "\n",
    "    except Exception as e:\n",
    "        print(f\"An error occurred: {e}\")\n",
    "        return 'Unknown, Unknown, Unknown'\n",
    "\n",
    "@udf(returnType=StringType())\n",
    "def categorize_age_group(age: int) -> str:\n",
    "    if not age: return 'None'\n",
    "    \n",
    "    if age >= 60:\n",
    "        return '60+'\n",
    "    elif age >= 41:\n",
    "        return '41-60'\n",
    "    elif age >= 26:\n",
    "        return '26-40'\n",
    "    elif age >= 18:\n",
    "        return '18-25'\n",
    "    return '1-18'\n",
    "\n",
    "@udf(returnType=StringType())\n",
    "def extract_log_info(user_agent_str):\n",
    "    user_agent = parse(user_agent_str)\n",
    "    \n",
    "    device_type = \"Tablet\" if user_agent.is_tablet else (\"Mobile\" if user_agent.is_mobile else \"Laptop\")\n",
    "    os_family = user_agent.os.family\n",
    "    browser_family = user_agent.browser.family\n",
    "\n",
    "    return f\"{device_type}, {os_family}, {browser_family}\"\n"
   ],
   "outputs": [],
   "execution_count": 43
  },
  {
   "cell_type": "code",
   "id": "cdf899148f6edd97",
   "metadata": {
    "ExecuteTime": {
     "end_time": "2024-09-16T06:40:01.193300Z",
     "start_time": "2024-09-16T06:40:01.155635Z"
    }
   },
   "source": [
    "schema = StructType([\n",
    "    StructField(\"username\", StringType()),\n",
    "    StructField(\"age\", IntegerType()),\n",
    "    StructField(\"gender\", StringType()),\n",
    "    StructField(\"ad_position\", StringType()),\n",
    "    StructField(\"browsing_history\", StringType()),\n",
    "    StructField(\"activity_time\", TimestampType()),\n",
    "    StructField(\"ip_address\", StringType()),\n",
    "    StructField(\"log\", StringType()),\n",
    "    StructField(\"redirect_from\", StringType()),\n",
    "    StructField(\"redirect_to\", StringType()),\n",
    "    StructField(\"id\", StringType()),\n",
    "    StructField(\"created_at\", TimestampType()),\n",
    "    StructField(\"status\", StringType()),\n",
    "])\n",
    "\n",
    "_options = {\n",
    "    \"header\": \"true\", \n",
    "    \"delimiter\": \",\"\n",
    "}\n",
    "\n",
    "df: DataFrame = (spark.read\n",
    "                 .options(**_options)\n",
    "                 .schema(schema)\n",
    "                 .csv(\"data.csv\"))\n",
    "\n",
    "# df.show(3, truncate=False)"
   ],
   "outputs": [],
   "execution_count": 44
  },
  {
   "cell_type": "code",
   "id": "747a5b2c225f081f",
   "metadata": {
    "ExecuteTime": {
     "end_time": "2024-09-16T07:24:33.373521Z",
     "start_time": "2024-09-16T07:24:28.683095Z"
    }
   },
   "source": [
    "df = (df\n",
    "      .withColumn('full_address_by_ip', get_location_by_ip(col('ip_address')))\n",
    "      .withColumn('country', split(col('full_address_by_ip'), ',')[0])\n",
    "      .withColumn('city', split(col('full_address_by_ip'), ',')[1])\n",
    "      .withColumn('age_group', categorize_age_group(col('age')))\n",
    "      .withColumn(\"hour\", hour(col(\"activity_time\")).cast(IntegerType()))\n",
    "      .withColumn(\"time_of_day\",\n",
    "                   when(col(\"hour\").between(5, 11), \"morning\")\n",
    "                   .when(col(\"hour\").between(12, 17), \"afternoon\")\n",
    "                   .when(col(\"hour\").between(18, 22), \"evening\")\n",
    "                   .otherwise(\"night\"))\n",
    "      .withColumn('parsed_log_info', extract_log_info(col('log')))\n",
    "      .withColumn('device_type', split(col('parsed_log_info'), ',')[0])\n",
    "      .withColumn('os_family', split(col('parsed_log_info'), ',')[1])\n",
    "      .withColumn('browser_family', split(col('parsed_log_info'), ',')[2])\n",
    ")\n",
    "\n",
    "ids = df.select(col('id')).collect()\n",
    "df = df.drop('full_address_by_ip', 'log_info', 'created_at', 'status', 'username', 'id')\n",
    "\n",
    "df.show(3)"
   ],
   "outputs": [
    {
     "name": "stdout",
     "output_type": "stream",
     "text": [
      "+-------------+---+-----------+-----------+----------------+-------------------+--------------+--------------------+-----------------+-------------------+--------------------+--------------------+--------+-------------+-------------+---------+----+-----------+--------------------+-----------+---------+--------------+\n",
      "|     username|age|     gender|ad_position|browsing_history|      activity_time|    ip_address|                 log|    redirect_from|        redirect_to|                  id|          created_at|  status|      country|         city|age_group|hour|time_of_day|     parsed_log_info|device_type|os_family|browser_family|\n",
      "+-------------+---+-----------+-----------+----------------+-------------------+--------------+--------------------+-----------------+-------------------+--------------------+--------------------+--------+-------------+-------------+---------+----+-----------+--------------------+-----------+---------+--------------+\n",
      "|monicamullins| 59|genderqueer|      popup|          Gaming|2024-08-21 12:53:28|254.143.21.121|Mozilla/5.0 (Wind...|         king.org|          perry.com|5055e927-0880-4ae...|2024-09-15 19:44:...|uploaded|      Unknown|      Unknown|    41-60|  12|  afternoon|Laptop, Windows, ...|     Laptop|  Windows|          Edge|\n",
      "|     upearson| 75| non-binary|      popup|          Health|2024-07-25 05:28:07|128.136.41.233|Mozilla/5.0 (Maci...|gaines-howard.org|madden-martinez.com|c680506c-0e59-43c...|2024-09-15 19:44:...|uploaded|United States|    Charlotte|      60+|   5|    morning|Laptop, Mac OS X,...|     Laptop| Mac OS X|        Safari|\n",
      "|   urodriguez| 89|       male|      popup|           Music|2024-04-08 12:35:45|40.154.234.148|Mozilla/5.0 (Wind...|      osborne.org|madden-martinez.com|5294f817-0e1f-433...|2024-09-15 19:44:...|uploaded|United States| Indianapolis|      60+|  12|  afternoon|Laptop, Windows, ...|     Laptop|  Windows|        Safari|\n",
      "+-------------+---+-----------+-----------+----------------+-------------------+--------------+--------------------+-----------------+-------------------+--------------------+--------------------+--------+-------------+-------------+---------+----+-----------+--------------------+-----------+---------+--------------+\n",
      "only showing top 3 rows\n",
      "\n"
     ]
    }
   ],
   "execution_count": 53
  },
  {
   "cell_type": "code",
   "id": "6b77d9cb21e384e3",
   "metadata": {
    "ExecuteTime": {
     "end_time": "2024-09-16T07:25:13.813697Z",
     "start_time": "2024-09-16T07:24:46.425102Z"
    }
   },
   "source": "df.select(col('country')).distinct().show()\n",
   "outputs": [
    {
     "name": "stdout",
     "output_type": "stream",
     "text": [
      "+-------------+\n",
      "|      country|\n",
      "+-------------+\n",
      "|    Singapore|\n",
      "|      Germany|\n",
      "|       France|\n",
      "|       Taiwan|\n",
      "|United States|\n",
      "|      Unknown|\n",
      "|     Thailand|\n",
      "|  South Korea|\n",
      "+-------------+\n",
      "\n"
     ]
    }
   ],
   "execution_count": 54
  },
  {
   "cell_type": "code",
   "id": "6721efdd80b15460",
   "metadata": {
    "ExecuteTime": {
     "end_time": "2024-09-16T07:46:46.951574Z",
     "start_time": "2024-09-16T07:46:35.626039Z"
    }
   },
   "source": [
    "df.coalesce(1).write.mode(\"overwrite\").format(\"com.databricks.spark.csv\").option(\"header\", \"true\").csv(\"transform_data.csv\") \n",
    "\n",
    "# from tempfile import NamedTemporaryFile\n",
    "# with NamedTemporaryFile() as tmp:\n",
    "#   df.coalesce(1).write.format('csv').options(header=True).save('lol.asd')\n",
    "\n",
    "# (df\n",
    "#    .repartition(1)\n",
    "#    .write.format(\"com.databricks.spark.csv\")\n",
    "#    .option(\"header\", \"true\")\n",
    "#    .save(\"mydata1.csv\"))\n",
    "# \n",
    "# \n",
    "# (df\n",
    "#    .coalesce(1)\n",
    "#    .write.format(\"com.databricks.spark.csv\")\n",
    "#    .option(\"header\", \"true\")\n",
    "#    .save(\"mydata2.csv\"))\n",
    "\n",
    "# (df.write\n",
    "#         .format(\"com.databricks.spark.csv\")\n",
    "#         .option(\"header\", \"false\")\n",
    "#         .mode(\"overwrite\")\n",
    "#         .save('aaa.csv'))\n",
    "# df.unpersist()\n",
    "# \n",
    "# df.persist()\n",
    "# (df.write\n",
    "#         .format(\"com.databricks.spark.csv\")\n",
    "#         .option(\"header\", \"false\")\n",
    "#         .mode(\"overwrite\")\n",
    "#         .save('aaa3.csv'))\n",
    "# df.unpersist()"
   ],
   "outputs": [],
   "execution_count": 73
  },
  {
   "cell_type": "code",
   "id": "4c190a0caa6078a1",
   "metadata": {
    "ExecuteTime": {
     "end_time": "2024-09-16T07:40:56.363415Z",
     "start_time": "2024-09-16T07:40:56.359788Z"
    }
   },
   "source": [],
   "outputs": [],
   "execution_count": null
  },
  {
   "cell_type": "code",
   "id": "acb1e637e19e46b9",
   "metadata": {
    "ExecuteTime": {
     "end_time": "2024-09-16T06:01:04.886478Z",
     "start_time": "2024-09-16T06:01:04.882656Z"
    }
   },
   "source": "",
   "outputs": [],
   "execution_count": null
  },
  {
   "cell_type": "code",
   "id": "a9a8a70a921cca97",
   "metadata": {
    "ExecuteTime": {
     "end_time": "2024-09-16T06:01:06.678345Z",
     "start_time": "2024-09-16T06:01:06.675407Z"
    }
   },
   "source": "",
   "outputs": [],
   "execution_count": null
  },
  {
   "cell_type": "code",
   "execution_count": null,
   "id": "e02e1d59aa868e0d",
   "metadata": {
    "ExecuteTime": {
     "end_time": "2024-09-15T21:35:20.701455Z",
     "start_time": "2024-09-15T21:35:20.698951Z"
    }
   },
   "outputs": [],
   "source": []
  },
  {
   "cell_type": "code",
   "execution_count": null,
   "id": "631a7becba3db99c",
   "metadata": {
    "ExecuteTime": {
     "end_time": "2024-09-15T21:35:20.878787Z",
     "start_time": "2024-09-15T21:35:20.876196Z"
    }
   },
   "outputs": [],
   "source": []
  },
  {
   "cell_type": "code",
   "execution_count": null,
   "id": "9472c595cbd16a49",
   "metadata": {},
   "outputs": [],
   "source": []
  }
 ],
 "metadata": {
  "kernelspec": {
   "display_name": "Python 3",
   "language": "python",
   "name": "python3"
  },
  "language_info": {
   "codemirror_mode": {
    "name": "ipython",
    "version": 3
   },
   "file_extension": ".py",
   "mimetype": "text/x-python",
   "name": "python",
   "nbconvert_exporter": "python",
   "pygments_lexer": "ipython3",
   "version": "3.11.9"
  }
 },
 "nbformat": 4,
 "nbformat_minor": 5
}
