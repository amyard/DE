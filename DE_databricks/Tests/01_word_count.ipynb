{
 "cells": [
  {
   "cell_type": "code",
   "execution_count": null,
   "id": "initial_id",
   "metadata": {
    "collapsed": true
   },
   "outputs": [],
   "source": [
    "class BatchWordCount():\n",
    "    def __init__(self):\n",
    "        self.base_dir = \"/FileStore/tables/\"\n",
    "\n",
    "    def get_raw_data(self):\n",
    "        from pyspark.sql.functions import explode, split\n",
    "        \n",
    "        lines = spark.read.format('text').option('lineSep', '.').load(f\"{self.base_dir}/data/text\")\n",
    "        return lines.select(explode(split(lines.value, \" \")).alias('word'))\n",
    "    \n",
    "    def get_quality_data(self, df):\n",
    "        from pyspark.sql.functions import trim, lower\n",
    "\n",
    "        return (df.select(lower(trim(df.word)).alias('word'))\n",
    "                    .where(\"word is not null\")\n",
    "                    .where('word rlike \"[a-z]\"'))\n",
    "        \n",
    "    def get_word_count(self, df):\n",
    "        return df.groupBy('word').count()\n",
    "    \n",
    "    def write_data(self, df):\n",
    "        df.write.format('delta').mode('overwrite').saveAsTable('word_count_table')\n",
    "\n",
    "    def word_count(self):\n",
    "        raw_df = self.get_raw_data()\n",
    "        # print(raw_df.show())\n",
    "        quality_df = self.get_quality_data(raw_df)\n",
    "        result_df = self.get_word_count(quality_df)\n",
    "        self.write_data(result_df)"
   ]
  },
  {
   "metadata": {},
   "cell_type": "code",
   "outputs": [],
   "execution_count": null,
   "source": [
    "class StreamWordCount():\n",
    "    def __init__(self):\n",
    "        self.base_dir = \"/FileStore/tables/\"\n",
    "\n",
    "    def get_raw_data(self):\n",
    "        from pyspark.sql.functions import explode, split\n",
    "        \n",
    "        lines = spark.readStream.format('text').option('lineSep', '.').load(f\"{self.base_dir}/data/text\")\n",
    "        return lines.select(explode(split(lines.value, \" \")).alias('word'))\n",
    "    \n",
    "    def get_quality_data(self, df):\n",
    "        from pyspark.sql.functions import trim, lower\n",
    "\n",
    "        return (df.select(lower(trim(df.word)).alias('word'))\n",
    "                    .where(\"word is not null\")\n",
    "                    .where('word rlike \"[a-z]\"'))\n",
    "        \n",
    "    def get_word_count(self, df):\n",
    "        return df.groupBy('word').count()\n",
    "    \n",
    "    def write_data(self, df):\n",
    "        return (df.writeStream\n",
    "            .format('delta')\n",
    "            .option(\"checkpointLocation\", f\"{self.base_dir}/chekpoint/word_count\")\n",
    "            .outputMode('complete')\n",
    "            .toTable('word_count_table'))\n",
    "\n",
    "    def word_count(self):\n",
    "        raw_df = self.get_raw_data()\n",
    "        # print(raw_df.show())\n",
    "        quality_df = self.get_quality_data(raw_df)\n",
    "        streaming_query = result_df = self.get_word_count(quality_df)\n",
    "        self.write_data(result_df)\n",
    "\n",
    "        return streaming_query"
   ],
   "id": "cf957bf30b4ed4e6"
  }
 ],
 "metadata": {
  "kernelspec": {
   "display_name": "Python 3",
   "language": "python",
   "name": "python3"
  },
  "language_info": {
   "codemirror_mode": {
    "name": "ipython",
    "version": 2
   },
   "file_extension": ".py",
   "mimetype": "text/x-python",
   "name": "python",
   "nbconvert_exporter": "python",
   "pygments_lexer": "ipython2",
   "version": "2.7.6"
  }
 },
 "nbformat": 4,
 "nbformat_minor": 5
}
